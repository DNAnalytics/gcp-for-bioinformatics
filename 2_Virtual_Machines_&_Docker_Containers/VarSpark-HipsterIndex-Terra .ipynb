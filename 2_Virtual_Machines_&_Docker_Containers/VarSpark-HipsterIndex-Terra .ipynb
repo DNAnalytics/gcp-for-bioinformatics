{
 "cells": [
  {
   "cell_type": "markdown",
   "metadata": {},
   "source": [
    "### Important\n",
    "This needs a custom cluster with setup script: `gs://spark-tutorial/bootstrap/install_varspark_pip.sh`"
   ]
  },
  {
   "cell_type": "code",
   "execution_count": 1,
   "metadata": {},
   "outputs": [
    {
     "name": "stderr",
     "output_type": "stream",
     "text": [
      "Running on Apache Spark version 2.2.3\n",
      "SparkUI available at http://10.128.0.10:4040\n",
      "Welcome to\n",
      " _    __           _             __  _____                  __    \n",
      "| |  / /___ ______(_)___ _____  / /_/ ___/____  ____ ______/ /__  \n",
      "| | / / __ `/ ___/ / __ `/ __ \\/ __/\\__ \\/ __ \\/ __ `/ ___/ //_/  \n",
      "| |/ / /_/ / /  / / /_/ / / / / /_ ___/ / /_/ / /_/ / /  / ,<     \n",
      "|___/\\__,_/_/  /_/\\__,_/_/ /_/\\__//____/ .___/\\__,_/_/  /_/|_|    \n",
      "                                      /_/                         \n"
     ]
    }
   ],
   "source": [
    "import varspark\n",
    "vs = varspark.VarsparkContext(spark)"
   ]
  },
  {
   "cell_type": "code",
   "execution_count": 2,
   "metadata": {},
   "outputs": [],
   "source": [
    "features = vs.import_vcf('gs://spark-tutorial/datasets/hipsterIndex/hipster.vcf.bz2')"
   ]
  },
  {
   "cell_type": "code",
   "execution_count": 3,
   "metadata": {},
   "outputs": [],
   "source": [
    "labels = vs.load_label('gs://spark-tutorial/datasets/hipsterIndex/hipster_labels.txt','label')"
   ]
  },
  {
   "cell_type": "code",
   "execution_count": 4,
   "metadata": {},
   "outputs": [
    {
     "name": "stdout",
     "output_type": "stream",
     "text": [
      "Oob = 0.0459265175719\n"
     ]
    }
   ],
   "source": [
    "model  = features.importance_analysis(labels, mtry_fraction = 0.1, seed = 13, n_trees = 200)\n",
    "print(\"Oob = %s\" % model.oob_error())"
   ]
  },
  {
   "cell_type": "code",
   "execution_count": 5,
   "metadata": {},
   "outputs": [
    {
     "data": {
      "text/plain": [
       "[(u'2_223034082', 0.0009737633142154044),\n",
       " (u'7_17284577', 0.0006323707074566087),\n",
       " (u'5_126627875', 0.0003429685682404709),\n",
       " (u'5_126630948', 0.0003234779149833892),\n",
       " (u'5_126630016', 0.00028306215816761013),\n",
       " (u'5_126626044', 0.00026649685772415474),\n",
       " (u'5_126628584', 0.00026500133910663465),\n",
       " (u'4_54510874', 0.00024606511569100415),\n",
       " (u'4_54509759', 0.0002379952528844052),\n",
       " (u'4_54511913', 0.00023440996445131632),\n",
       " (u'5_126628771', 0.0002249189844854812),\n",
       " (u'2_223035211', 0.00021156003906485984),\n",
       " (u'2_223034660', 0.00020457527753041523),\n",
       " (u'2_223033642', 0.0001906803552668795),\n",
       " (u'2_223033030', 0.00018206540868075457),\n",
       " (u'5_126629112', 0.00018191352158624998),\n",
       " (u'5_126626645', 0.00017844116304374452),\n",
       " (u'2_223035940', 0.00015036001671864225),\n",
       " (u'2_223035313', 0.00012577849633477935),\n",
       " (u'2_223033978', 0.00012469139217267762)]"
      ]
     },
     "execution_count": 5,
     "metadata": {},
     "output_type": "execute_result"
    }
   ],
   "source": [
    "model.important_variables(20)"
   ]
  },
  {
   "cell_type": "code",
   "execution_count": null,
   "metadata": {},
   "outputs": [],
   "source": []
  }
 ],
 "metadata": {
  "kernelspec": {
   "display_name": "PySpark 2",
   "language": "python",
   "name": "pyspark2"
  },
  "language_info": {
   "codemirror_mode": {
    "name": "ipython",
    "version": 2
   },
   "file_extension": ".py",
   "mimetype": "text/x-python",
   "name": "python",
   "nbconvert_exporter": "python",
   "pygments_lexer": "ipython2",
   "version": "2.7.13"
  },
  "toc": {
   "base_numbering": 1,
   "nav_menu": {},
   "number_sections": true,
   "sideBar": true,
   "skip_h1_title": false,
   "title_cell": "Table of Contents",
   "title_sidebar": "Contents",
   "toc_cell": false,
   "toc_position": {},
   "toc_section_display": true,
   "toc_window_display": false
  }
 },
 "nbformat": 4,
 "nbformat_minor": 2
}
